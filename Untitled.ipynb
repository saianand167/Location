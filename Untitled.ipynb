{
 "cells": [
  {
   "cell_type": "code",
   "execution_count": 4,
   "id": "81a0e6ad-c7d7-4967-a839-cd50eb50f607",
   "metadata": {},
   "outputs": [
    {
     "name": "stdout",
     "output_type": "stream",
     "text": [
      "Collecting flask_cors\n",
      "  Using cached flask_cors-6.0.1-py3-none-any.whl.metadata (5.3 kB)\n",
      "Requirement already satisfied: flask>=0.9 in c:\\users\\saian\\anaconda3\\lib\\site-packages (from flask_cors) (3.0.3)\n",
      "Requirement already satisfied: Werkzeug>=0.7 in c:\\users\\saian\\anaconda3\\lib\\site-packages (from flask_cors) (3.0.3)\n",
      "Requirement already satisfied: Jinja2>=3.1.2 in c:\\users\\saian\\anaconda3\\lib\\site-packages (from flask>=0.9->flask_cors) (3.1.4)\n",
      "Requirement already satisfied: itsdangerous>=2.1.2 in c:\\users\\saian\\anaconda3\\lib\\site-packages (from flask>=0.9->flask_cors) (2.2.0)\n",
      "Requirement already satisfied: click>=8.1.3 in c:\\users\\saian\\anaconda3\\lib\\site-packages (from flask>=0.9->flask_cors) (8.1.7)\n",
      "Requirement already satisfied: blinker>=1.6.2 in c:\\users\\saian\\anaconda3\\lib\\site-packages (from flask>=0.9->flask_cors) (1.6.2)\n",
      "Requirement already satisfied: MarkupSafe>=2.1.1 in c:\\users\\saian\\anaconda3\\lib\\site-packages (from Werkzeug>=0.7->flask_cors) (2.1.3)\n",
      "Requirement already satisfied: colorama in c:\\users\\saian\\anaconda3\\lib\\site-packages (from click>=8.1.3->flask>=0.9->flask_cors) (0.4.6)\n",
      "Using cached flask_cors-6.0.1-py3-none-any.whl (13 kB)\n",
      "Installing collected packages: flask_cors\n",
      "Successfully installed flask_cors-6.0.1\n"
     ]
    }
   ],
   "source": [
    "!pip install flask_cors"
   ]
  }
 ],
 "metadata": {
  "kernelspec": {
   "display_name": "Python [conda env:base] *",
   "language": "python",
   "name": "conda-base-py"
  },
  "language_info": {
   "codemirror_mode": {
    "name": "ipython",
    "version": 3
   },
   "file_extension": ".py",
   "mimetype": "text/x-python",
   "name": "python",
   "nbconvert_exporter": "python",
   "pygments_lexer": "ipython3",
   "version": "3.12.7"
  }
 },
 "nbformat": 4,
 "nbformat_minor": 5
}
